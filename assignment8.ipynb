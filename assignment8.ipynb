{
  "nbformat": 4,
  "nbformat_minor": 0,
  "metadata": {
    "colab": {
      "name": "assignment8.ipynb",
      "provenance": [],
      "authorship_tag": "ABX9TyOVPm5s/vtjMBx9MOPRE1EZ",
      "include_colab_link": true
    },
    "kernelspec": {
      "name": "python3",
      "display_name": "Python 3"
    }
  },
  "cells": [
    {
      "cell_type": "markdown",
      "metadata": {
        "id": "view-in-github",
        "colab_type": "text"
      },
      "source": [
        "<a href=\"https://colab.research.google.com/github/monish123407/median_order_statistics_assignment8/blob/master/assignment8.ipynb\" target=\"_parent\"><img src=\"https://colab.research.google.com/assets/colab-badge.svg\" alt=\"Open In Colab\"/></a>"
      ]
    },
    {
      "cell_type": "code",
      "metadata": {
        "id": "hXRBwxR6y0VI",
        "colab_type": "code",
        "colab": {}
      },
      "source": [
        "from math import ceil, log10 as log \n",
        "import matplotlib.pyplot as plt \n",
        "from random import randint \n",
        "def rand_arr_gen(length): \n",
        "    return [randint(1, 2 * length) for _ in range(length)] \n",
        "def median_order_stat(arr): \n",
        "    length = len(arr) \n",
        "    comp = 0 \n",
        "    arr_list = [arr[i: i+5] for i in range(0, length, 5)] \n",
        "    for arr_part in arr_list: \n",
        "        arr_part.sort() \n",
        "        comp += 1 + int(5 * log(5)) \n",
        "    median_list = [] \n",
        "    for part in arr_list[:length // 5]: \n",
        "        median_list.append(part[2]) \n",
        "    median_list.append(arr_list[-1][len(arr_list[-1]) // 2]) \n",
        "    comp += ceil(length / 5) \n",
        "    median_list.sort() \n",
        "    comp += int(ceil(length / 5) * log(ceil(length / 5))) \n",
        "    return median_list[len(median_list) // 2], comp \n",
        "\n",
        " "
      ],
      "execution_count": 0,
      "outputs": []
    },
    {
      "cell_type": "code",
      "metadata": {
        "id": "PzgL1iVky_pD",
        "colab_type": "code",
        "outputId": "57ea779b-7038-4d1c-e272-a49e94a2e131",
        "colab": {
          "base_uri": "https://localhost:8080/",
          "height": 346
        }
      },
      "source": [
        "elements = [1000, 5000, 10000, 20000, 30000] \n",
        "comparisons = [] \n",
        "for length in elements: \n",
        "    _, comp = median_order_stat(rand_arr_gen(length)) \n",
        "    comparisons.append(comp) \n",
        "plt.plot(elements, comparisons) \n",
        "print(arr) \n",
        "print(median) \n",
        "plt.ylabel('Comparisons') \n",
        "plt.xlabel('Size') \n",
        "plt.title('Size vs Comparison Graph for Finding the Median') \n",
        "plt.show() \n",
        "arr = rand_arr_gen(31) \n",
        "print(arr) \n",
        "median, _ = median_order_stat(arr) \n",
        "arr.sort() \n"
      ],
      "execution_count": 0,
      "outputs": [
        {
          "output_type": "stream",
          "text": [
            "[2, 3, 5, 5, 7, 9, 11, 12, 14, 19, 24, 27, 27, 30, 30, 31, 31, 34, 38, 38, 41, 41, 42, 44, 51, 52, 55, 58, 61, 62, 62]\n",
            "31\n"
          ],
          "name": "stdout"
        },
        {
          "output_type": "display_data",
          "data": {
            "image/png": "[encoded data removed]",
            "text/plain": [
              "<Figure size 432x288 with 1 Axes>"
            ]
          },
          "metadata": {
            "tags": []
          }
        },
        {
          "output_type": "stream",
          "text": [
            "[24, 46, 31, 59, 1, 50, 41, 58, 51, 52, 7, 22, 8, 22, 20, 48, 55, 38, 25, 36, 56, 37, 13, 55, 29, 1, 44, 35, 7, 44, 36]\n"
          ],
          "name": "stdout"
        }
      ]
    }
  ]
}